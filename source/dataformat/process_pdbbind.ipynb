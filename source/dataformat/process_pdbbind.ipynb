{
 "cells": [
  {
   "cell_type": "markdown",
   "metadata": {},
   "source": [
    "# Process PDBBind dataset"
   ]
  },
  {
   "cell_type": "code",
   "execution_count": 2,
   "metadata": {},
   "outputs": [],
   "source": [
    "import Bio.PDB\n",
    "import numpy as np\n",
    "\n",
    "import structuralPH\n",
    "import ph_analysis_MSMconfs\n",
    "import atompartitioning\n",
    "\n",
    "import os\n",
    "import sys\n",
    "\n",
    "import nbdev.showdoc"
   ]
  },
  {
   "cell_type": "code",
   "execution_count": 2,
   "metadata": {},
   "outputs": [],
   "source": [
    "# Assumes dataset has been extracted!\n",
    "\n",
    "pdbbindpath=\"/home/jnorth/Nextcloud/extracurriculars/publishing/research/datasets/pdbbind_v2019_refined/refined-set\"\n",
    "analypath=\"/home/jnorth/Nextcloud/extracurriculars/publishing/research/hsu/experiments/feateng_2021_02_02_18:16:30/analyses\"\n",
    "datapath=\"/home/jnorth/Nextcloud/extracurriculars/publishing/research/hsu/experiments/feateng_2021_02_02_18:16:30/data\"\n"
   ]
  },
  {
   "cell_type": "code",
   "execution_count": 19,
   "metadata": {},
   "outputs": [
    {
     "name": "stdout",
     "output_type": "stream",
     "text": [
      "6ayo_protein.pdb\n",
      "2pqc_protein.pdb\n"
     ]
    },
    {
     "name": "stderr",
     "output_type": "stream",
     "text": [
      "/home/jnorth/miniconda3/envs/mdanalysis/lib/python3.8/site-packages/Bio/PDB/PDBParser.py:395: PDBConstructionWarning: Ignoring unrecognized record 'TER' at line 2166\n",
      "  warnings.warn(\n",
      "/home/jnorth/miniconda3/envs/mdanalysis/lib/python3.8/site-packages/Bio/PDB/PDBParser.py:395: PDBConstructionWarning: Ignoring unrecognized record 'TER' at line 4288\n",
      "  warnings.warn(\n",
      "/home/jnorth/miniconda3/envs/mdanalysis/lib/python3.8/site-packages/Bio/PDB/PDBParser.py:395: PDBConstructionWarning: Ignoring unrecognized record 'END' at line 4638\n",
      "  warnings.warn(\n",
      "/home/jnorth/miniconda3/envs/mdanalysis/lib/python3.8/site-packages/Bio/PDB/PDBParser.py:395: PDBConstructionWarning: Ignoring unrecognized record 'TER' at line 6619\n",
      "  warnings.warn(\n",
      "/home/jnorth/miniconda3/envs/mdanalysis/lib/python3.8/site-packages/Bio/PDB/PDBParser.py:395: PDBConstructionWarning: Ignoring unrecognized record 'END' at line 7126\n",
      "  warnings.warn(\n",
      "/home/jnorth/miniconda3/envs/mdanalysis/lib/python3.8/site-packages/Bio/PDB/PDBParser.py:395: PDBConstructionWarning: Ignoring unrecognized record 'TER' at line 478\n",
      "  warnings.warn(\n",
      "/home/jnorth/miniconda3/envs/mdanalysis/lib/python3.8/site-packages/Bio/PDB/PDBParser.py:395: PDBConstructionWarning: Ignoring unrecognized record 'TER' at line 4491\n",
      "  warnings.warn(\n"
     ]
    },
    {
     "name": "stdout",
     "output_type": "stream",
     "text": [
      "1oyt_protein.pdb\n",
      "2q1q_protein.pdb\n"
     ]
    },
    {
     "name": "stderr",
     "output_type": "stream",
     "text": [
      "/home/jnorth/miniconda3/envs/mdanalysis/lib/python3.8/site-packages/Bio/PDB/PDBParser.py:395: PDBConstructionWarning: Ignoring unrecognized record 'TER' at line 4066\n",
      "  warnings.warn(\n",
      "/home/jnorth/miniconda3/envs/mdanalysis/lib/python3.8/site-packages/Bio/PDB/PDBParser.py:395: PDBConstructionWarning: Ignoring unrecognized record 'TER' at line 5677\n",
      "  warnings.warn(\n",
      "/home/jnorth/miniconda3/envs/mdanalysis/lib/python3.8/site-packages/Bio/PDB/PDBParser.py:395: PDBConstructionWarning: Ignoring unrecognized record 'END' at line 5951\n",
      "  warnings.warn(\n"
     ]
    },
    {
     "name": "stdout",
     "output_type": "stream",
     "text": [
      "2yix_protein.pdb\n",
      "1upf_protein.pdb\n"
     ]
    },
    {
     "name": "stderr",
     "output_type": "stream",
     "text": [
      "/home/jnorth/miniconda3/envs/mdanalysis/lib/python3.8/site-packages/Bio/PDB/PDBParser.py:395: PDBConstructionWarning: Ignoring unrecognized record 'TER' at line 3723\n",
      "  warnings.warn(\n",
      "/home/jnorth/miniconda3/envs/mdanalysis/lib/python3.8/site-packages/Bio/PDB/PDBParser.py:395: PDBConstructionWarning: Ignoring unrecognized record 'TER' at line 7371\n",
      "  warnings.warn(\n",
      "/home/jnorth/miniconda3/envs/mdanalysis/lib/python3.8/site-packages/Bio/PDB/PDBParser.py:395: PDBConstructionWarning: Ignoring unrecognized record 'TER' at line 11019\n",
      "  warnings.warn(\n",
      "/home/jnorth/miniconda3/envs/mdanalysis/lib/python3.8/site-packages/Bio/PDB/PDBParser.py:395: PDBConstructionWarning: Ignoring unrecognized record 'TER' at line 14667\n",
      "  warnings.warn(\n",
      "/home/jnorth/miniconda3/envs/mdanalysis/lib/python3.8/site-packages/Bio/PDB/PDBParser.py:395: PDBConstructionWarning: Ignoring unrecognized record 'END' at line 14833\n",
      "  warnings.warn(\n",
      "/home/jnorth/miniconda3/envs/mdanalysis/lib/python3.8/site-packages/Bio/PDB/PDBParser.py:395: PDBConstructionWarning: Ignoring unrecognized record 'TER' at line 4661\n",
      "  warnings.warn(\n",
      "/home/jnorth/miniconda3/envs/mdanalysis/lib/python3.8/site-packages/Bio/PDB/PDBParser.py:395: PDBConstructionWarning: Ignoring unrecognized record 'END' at line 5164\n",
      "  warnings.warn(\n"
     ]
    },
    {
     "name": "stdout",
     "output_type": "stream",
     "text": [
      "2zy1_protein.pdb\n",
      "4i8n_protein.pdb\n"
     ]
    },
    {
     "name": "stderr",
     "output_type": "stream",
     "text": [
      "/home/jnorth/miniconda3/envs/mdanalysis/lib/python3.8/site-packages/Bio/PDB/PDBParser.py:395: PDBConstructionWarning: Ignoring unrecognized record 'TER' at line 4847\n",
      "  warnings.warn(\n",
      "/home/jnorth/miniconda3/envs/mdanalysis/lib/python3.8/site-packages/Bio/PDB/PDBParser.py:395: PDBConstructionWarning: Ignoring unrecognized record 'END' at line 4906\n",
      "  warnings.warn(\n",
      "/home/jnorth/miniconda3/envs/mdanalysis/lib/python3.8/site-packages/Bio/PDB/PDBParser.py:395: PDBConstructionWarning: Ignoring unrecognized record 'TER' at line 5319\n",
      "  warnings.warn(\n",
      "/home/jnorth/miniconda3/envs/mdanalysis/lib/python3.8/site-packages/Bio/PDB/PDBParser.py:395: PDBConstructionWarning: Ignoring unrecognized record 'TER' at line 5900\n",
      "  warnings.warn(\n",
      "/home/jnorth/miniconda3/envs/mdanalysis/lib/python3.8/site-packages/Bio/PDB/PDBParser.py:395: PDBConstructionWarning: Ignoring unrecognized record 'END' at line 6031\n",
      "  warnings.warn(\n"
     ]
    },
    {
     "name": "stdout",
     "output_type": "stream",
     "text": [
      "2xn3_protein.pdb\n",
      "3g1v_protein.pdb\n"
     ]
    },
    {
     "name": "stderr",
     "output_type": "stream",
     "text": [
      "/home/jnorth/miniconda3/envs/mdanalysis/lib/python3.8/site-packages/Bio/PDB/PDBParser.py:395: PDBConstructionWarning: Ignoring unrecognized record 'TER' at line 3280\n",
      "  warnings.warn(\n",
      "/home/jnorth/miniconda3/envs/mdanalysis/lib/python3.8/site-packages/Bio/PDB/PDBParser.py:395: PDBConstructionWarning: Ignoring unrecognized record 'TER' at line 6523\n",
      "  warnings.warn(\n",
      "/home/jnorth/miniconda3/envs/mdanalysis/lib/python3.8/site-packages/Bio/PDB/PDBParser.py:395: PDBConstructionWarning: Ignoring unrecognized record 'END' at line 6805\n",
      "  warnings.warn(\n",
      "/home/jnorth/miniconda3/envs/mdanalysis/lib/python3.8/site-packages/Bio/PDB/PDBParser.py:395: PDBConstructionWarning: Ignoring unrecognized record 'TER' at line 3674\n",
      "  warnings.warn(\n"
     ]
    },
    {
     "name": "stdout",
     "output_type": "stream",
     "text": [
      "2vvv_protein.pdb\n",
      "1s19_protein.pdb\n"
     ]
    },
    {
     "name": "stderr",
     "output_type": "stream",
     "text": [
      "/home/jnorth/miniconda3/envs/mdanalysis/lib/python3.8/site-packages/Bio/PDB/PDBParser.py:395: PDBConstructionWarning: Ignoring unrecognized record 'TER' at line 4459\n",
      "  warnings.warn(\n",
      "/home/jnorth/miniconda3/envs/mdanalysis/lib/python3.8/site-packages/Bio/PDB/PDBParser.py:395: PDBConstructionWarning: Ignoring unrecognized record 'TER' at line 4070\n",
      "  warnings.warn(\n",
      "/home/jnorth/miniconda3/envs/mdanalysis/lib/python3.8/site-packages/Bio/PDB/PDBParser.py:395: PDBConstructionWarning: Ignoring unrecognized record 'END' at line 4255\n",
      "  warnings.warn(\n",
      "/home/jnorth/miniconda3/envs/mdanalysis/lib/python3.8/site-packages/Bio/PDB/PDBParser.py:395: PDBConstructionWarning: Ignoring unrecognized record 'TER' at line 3363\n",
      "  warnings.warn(\n",
      "/home/jnorth/miniconda3/envs/mdanalysis/lib/python3.8/site-packages/Bio/PDB/PDBParser.py:395: PDBConstructionWarning: Ignoring unrecognized record 'END' at line 3670\n",
      "  warnings.warn(\n",
      "/home/jnorth/miniconda3/envs/mdanalysis/lib/python3.8/site-packages/Bio/PDB/PDBParser.py:395: PDBConstructionWarning: Ignoring unrecognized record 'TER' at line 1545\n",
      "  warnings.warn(\n",
      "/home/jnorth/miniconda3/envs/mdanalysis/lib/python3.8/site-packages/Bio/PDB/PDBParser.py:395: PDBConstructionWarning: Ignoring unrecognized record 'TER' at line 3058\n",
      "  warnings.warn(\n"
     ]
    },
    {
     "name": "stdout",
     "output_type": "stream",
     "text": [
      "3vhd_protein.pdb\n",
      "3ekv_protein.pdb\n"
     ]
    },
    {
     "name": "stderr",
     "output_type": "stream",
     "text": [
      "/home/jnorth/miniconda3/envs/mdanalysis/lib/python3.8/site-packages/Bio/PDB/PDBParser.py:395: PDBConstructionWarning: Ignoring unrecognized record 'END' at line 3183\n",
      "  warnings.warn(\n",
      "/home/jnorth/miniconda3/envs/mdanalysis/lib/python3.8/site-packages/Bio/PDB/PDBParser.py:395: PDBConstructionWarning: Ignoring unrecognized record 'TER' at line 2334\n",
      "  warnings.warn(\n",
      "/home/jnorth/miniconda3/envs/mdanalysis/lib/python3.8/site-packages/Bio/PDB/PDBParser.py:395: PDBConstructionWarning: Ignoring unrecognized record 'TER' at line 1562\n",
      "  warnings.warn(\n",
      "/home/jnorth/miniconda3/envs/mdanalysis/lib/python3.8/site-packages/Bio/PDB/PDBParser.py:395: PDBConstructionWarning: Ignoring unrecognized record 'END' at line 1805\n",
      "  warnings.warn(\n"
     ]
    },
    {
     "name": "stdout",
     "output_type": "stream",
     "text": [
      "4crb_protein.pdb\n",
      "6gjj_protein.pdb\n",
      "1gi1_protein.pdb\n",
      "3e5u_protein.pdb\n"
     ]
    },
    {
     "name": "stderr",
     "output_type": "stream",
     "text": [
      "/home/jnorth/miniconda3/envs/mdanalysis/lib/python3.8/site-packages/Bio/PDB/PDBParser.py:395: PDBConstructionWarning: Ignoring unrecognized record 'TER' at line 3245\n",
      "  warnings.warn(\n",
      "/home/jnorth/miniconda3/envs/mdanalysis/lib/python3.8/site-packages/Bio/PDB/PDBParser.py:395: PDBConstructionWarning: Ignoring unrecognized record 'TER' at line 3563\n",
      "  warnings.warn(\n",
      "/home/jnorth/miniconda3/envs/mdanalysis/lib/python3.8/site-packages/Bio/PDB/PDBParser.py:395: PDBConstructionWarning: Ignoring unrecognized record 'TER' at line 7079\n",
      "  warnings.warn(\n",
      "/home/jnorth/miniconda3/envs/mdanalysis/lib/python3.8/site-packages/Bio/PDB/PDBParser.py:395: PDBConstructionWarning: Ignoring unrecognized record 'END' at line 7477\n",
      "  warnings.warn(\n",
      "/home/jnorth/miniconda3/envs/mdanalysis/lib/python3.8/site-packages/Bio/PDB/PDBParser.py:395: PDBConstructionWarning: Ignoring unrecognized record 'TER' at line 5460\n",
      "  warnings.warn(\n",
      "/home/jnorth/miniconda3/envs/mdanalysis/lib/python3.8/site-packages/Bio/PDB/PDBParser.py:395: PDBConstructionWarning: Ignoring unrecognized record 'END' at line 5576\n",
      "  warnings.warn(\n",
      "/home/jnorth/miniconda3/envs/mdanalysis/lib/python3.8/site-packages/Bio/PDB/PDBParser.py:395: PDBConstructionWarning: Ignoring unrecognized record 'TER' at line 1305\n",
      "  warnings.warn(\n",
      "/home/jnorth/miniconda3/envs/mdanalysis/lib/python3.8/site-packages/Bio/PDB/PDBParser.py:395: PDBConstructionWarning: Ignoring unrecognized record 'END' at line 1591\n",
      "  warnings.warn(\n"
     ]
    },
    {
     "name": "stdout",
     "output_type": "stream",
     "text": [
      "3pwd_protein.pdb\n",
      "5dw2_protein.pdb\n",
      "1b3g_protein.pdb\n"
     ]
    },
    {
     "name": "stderr",
     "output_type": "stream",
     "text": [
      "/home/jnorth/miniconda3/envs/mdanalysis/lib/python3.8/site-packages/Bio/PDB/PDBParser.py:395: PDBConstructionWarning: Ignoring unrecognized record 'TER' at line 8275\n",
      "  warnings.warn(\n",
      "/home/jnorth/miniconda3/envs/mdanalysis/lib/python3.8/site-packages/Bio/PDB/PDBParser.py:395: PDBConstructionWarning: Ignoring unrecognized record 'TER' at line 1829\n",
      "  warnings.warn(\n",
      "/home/jnorth/miniconda3/envs/mdanalysis/lib/python3.8/site-packages/Bio/PDB/PDBParser.py:395: PDBConstructionWarning: Ignoring unrecognized record 'TER' at line 996\n",
      "  warnings.warn(\n",
      "/home/jnorth/miniconda3/envs/mdanalysis/lib/python3.8/site-packages/Bio/PDB/PDBParser.py:395: PDBConstructionWarning: Ignoring unrecognized record 'TER' at line 1816\n",
      "  warnings.warn(\n",
      "/home/jnorth/miniconda3/envs/mdanalysis/lib/python3.8/site-packages/Bio/PDB/PDBParser.py:395: PDBConstructionWarning: Ignoring unrecognized record 'TER' at line 3169\n",
      "  warnings.warn(\n"
     ]
    },
    {
     "name": "stdout",
     "output_type": "stream",
     "text": [
      "2xog_protein.pdb\n",
      "4w9j_protein.pdb\n",
      "185l_protein.pdb\n"
     ]
    },
    {
     "name": "stderr",
     "output_type": "stream",
     "text": [
      "/home/jnorth/miniconda3/envs/mdanalysis/lib/python3.8/site-packages/Bio/PDB/PDBParser.py:395: PDBConstructionWarning: Ignoring unrecognized record 'TER' at line 2618\n",
      "  warnings.warn(\n",
      "/home/jnorth/miniconda3/envs/mdanalysis/lib/python3.8/site-packages/Bio/PDB/PDBParser.py:395: PDBConstructionWarning: Ignoring unrecognized record 'END' at line 2753\n",
      "  warnings.warn(\n",
      "/home/jnorth/miniconda3/envs/mdanalysis/lib/python3.8/site-packages/Bio/PDB/PDBParser.py:395: PDBConstructionWarning: Ignoring unrecognized record 'TER' at line 2466\n",
      "  warnings.warn(\n",
      "/home/jnorth/miniconda3/envs/mdanalysis/lib/python3.8/site-packages/Bio/PDB/PDBParser.py:395: PDBConstructionWarning: Ignoring unrecognized record 'END' at line 2529\n",
      "  warnings.warn(\n",
      "/home/jnorth/miniconda3/envs/mdanalysis/lib/python3.8/site-packages/Bio/PDB/PDBParser.py:395: PDBConstructionWarning: Ignoring unrecognized record 'TER' at line 3873\n",
      "  warnings.warn(\n"
     ]
    },
    {
     "name": "stdout",
     "output_type": "stream",
     "text": [
      "4xtx_protein.pdb\n",
      "1w11_protein.pdb\n",
      "3ozs_protein.pdb\n"
     ]
    },
    {
     "name": "stderr",
     "output_type": "stream",
     "text": [
      "/home/jnorth/miniconda3/envs/mdanalysis/lib/python3.8/site-packages/Bio/PDB/PDBParser.py:395: PDBConstructionWarning: Ignoring unrecognized record 'TER' at line 3375\n",
      "  warnings.warn(\n",
      "/home/jnorth/miniconda3/envs/mdanalysis/lib/python3.8/site-packages/Bio/PDB/PDBParser.py:395: PDBConstructionWarning: Ignoring unrecognized record 'TER' at line 2970\n",
      "  warnings.warn(\n",
      "/home/jnorth/miniconda3/envs/mdanalysis/lib/python3.8/site-packages/Bio/PDB/PDBParser.py:395: PDBConstructionWarning: Ignoring unrecognized record 'TER' at line 487\n",
      "  warnings.warn(\n"
     ]
    },
    {
     "name": "stdout",
     "output_type": "stream",
     "text": [
      "5lvd_protein.pdb\n",
      "3si4_protein.pdb\n"
     ]
    },
    {
     "name": "stderr",
     "output_type": "stream",
     "text": [
      "/home/jnorth/miniconda3/envs/mdanalysis/lib/python3.8/site-packages/Bio/PDB/PDBParser.py:395: PDBConstructionWarning: Ignoring unrecognized record 'TER' at line 4504\n",
      "  warnings.warn(\n"
     ]
    },
    {
     "name": "stdout",
     "output_type": "stream",
     "text": [
      "5sz7_protein.pdb\n"
     ]
    },
    {
     "name": "stderr",
     "output_type": "stream",
     "text": [
      "/home/jnorth/miniconda3/envs/mdanalysis/lib/python3.8/site-packages/Bio/PDB/PDBParser.py:395: PDBConstructionWarning: Ignoring unrecognized record 'TER' at line 2500\n",
      "  warnings.warn(\n",
      "/home/jnorth/miniconda3/envs/mdanalysis/lib/python3.8/site-packages/Bio/PDB/PDBParser.py:395: PDBConstructionWarning: Ignoring unrecognized record 'TER' at line 1578\n",
      "  warnings.warn(\n",
      "/home/jnorth/miniconda3/envs/mdanalysis/lib/python3.8/site-packages/Bio/PDB/PDBParser.py:395: PDBConstructionWarning: Ignoring unrecognized record 'TER' at line 3137\n",
      "  warnings.warn(\n",
      "/home/jnorth/miniconda3/envs/mdanalysis/lib/python3.8/site-packages/Bio/PDB/PDBParser.py:395: PDBConstructionWarning: Ignoring unrecognized record 'END' at line 3206\n",
      "  warnings.warn(\n"
     ]
    },
    {
     "name": "stdout",
     "output_type": "stream",
     "text": [
      "1bwa_protein.pdb\n",
      "3rsx_protein.pdb\n"
     ]
    },
    {
     "name": "stderr",
     "output_type": "stream",
     "text": [
      "/home/jnorth/miniconda3/envs/mdanalysis/lib/python3.8/site-packages/Bio/PDB/PDBParser.py:395: PDBConstructionWarning: Ignoring unrecognized record 'TER' at line 5865\n",
      "  warnings.warn(\n"
     ]
    },
    {
     "name": "stdout",
     "output_type": "stream",
     "text": [
      "1k1y_protein.pdb\n"
     ]
    },
    {
     "name": "stderr",
     "output_type": "stream",
     "text": [
      "/home/jnorth/miniconda3/envs/mdanalysis/lib/python3.8/site-packages/Bio/PDB/PDBParser.py:395: PDBConstructionWarning: Ignoring unrecognized record 'TER' at line 10640\n",
      "  warnings.warn(\n",
      "/home/jnorth/miniconda3/envs/mdanalysis/lib/python3.8/site-packages/Bio/PDB/PDBParser.py:395: PDBConstructionWarning: Ignoring unrecognized record 'TER' at line 3390\n",
      "  warnings.warn(\n"
     ]
    },
    {
     "name": "stdout",
     "output_type": "stream",
     "text": [
      "2pyy_protein.pdb\n"
     ]
    },
    {
     "name": "stderr",
     "output_type": "stream",
     "text": [
      "/home/jnorth/miniconda3/envs/mdanalysis/lib/python3.8/site-packages/Bio/PDB/PDBParser.py:395: PDBConstructionWarning: Ignoring unrecognized record 'TER' at line 6808\n",
      "  warnings.warn(\n",
      "/home/jnorth/miniconda3/envs/mdanalysis/lib/python3.8/site-packages/Bio/PDB/PDBParser.py:395: PDBConstructionWarning: Ignoring unrecognized record 'TER' at line 10144\n",
      "  warnings.warn(\n",
      "/home/jnorth/miniconda3/envs/mdanalysis/lib/python3.8/site-packages/Bio/PDB/PDBParser.py:395: PDBConstructionWarning: Ignoring unrecognized record 'END' at line 10375\n",
      "  warnings.warn(\n",
      "/home/jnorth/miniconda3/envs/mdanalysis/lib/python3.8/site-packages/Bio/PDB/PDBParser.py:395: PDBConstructionWarning: Ignoring unrecognized record 'TER' at line 4246\n",
      "  warnings.warn(\n"
     ]
    },
    {
     "name": "stdout",
     "output_type": "stream",
     "text": [
      "3coy_protein.pdb\n"
     ]
    },
    {
     "name": "stderr",
     "output_type": "stream",
     "text": [
      "/home/jnorth/miniconda3/envs/mdanalysis/lib/python3.8/site-packages/Bio/PDB/PDBParser.py:395: PDBConstructionWarning: Ignoring unrecognized record 'TER' at line 8425\n",
      "  warnings.warn(\n",
      "/home/jnorth/miniconda3/envs/mdanalysis/lib/python3.8/site-packages/Bio/PDB/PDBParser.py:395: PDBConstructionWarning: Ignoring unrecognized record 'END' at line 8795\n",
      "  warnings.warn(\n",
      "/home/jnorth/miniconda3/envs/mdanalysis/lib/python3.8/site-packages/Bio/PDB/PDBParser.py:395: PDBConstructionWarning: Ignoring unrecognized record 'TER' at line 2967\n",
      "  warnings.warn(\n"
     ]
    },
    {
     "name": "stdout",
     "output_type": "stream",
     "text": [
      "5n2z_protein.pdb\n",
      "3n3j_protein.pdb\n"
     ]
    },
    {
     "name": "stderr",
     "output_type": "stream",
     "text": [
      "/home/jnorth/miniconda3/envs/mdanalysis/lib/python3.8/site-packages/Bio/PDB/PDBParser.py:395: PDBConstructionWarning: Ignoring unrecognized record 'TER' at line 4083\n",
      "  warnings.warn(\n",
      "/home/jnorth/miniconda3/envs/mdanalysis/lib/python3.8/site-packages/Bio/PDB/PDBParser.py:395: PDBConstructionWarning: Ignoring unrecognized record 'TER' at line 3708\n",
      "  warnings.warn(\n"
     ]
    },
    {
     "name": "stdout",
     "output_type": "stream",
     "text": [
      "5zkc_protein.pdb\n",
      "3hl8_protein.pdb\n"
     ]
    },
    {
     "name": "stderr",
     "output_type": "stream",
     "text": [
      "/home/jnorth/miniconda3/envs/mdanalysis/lib/python3.8/site-packages/Bio/PDB/PDBParser.py:395: PDBConstructionWarning: Ignoring unrecognized record 'TER' at line 7347\n",
      "  warnings.warn(\n",
      "/home/jnorth/miniconda3/envs/mdanalysis/lib/python3.8/site-packages/Bio/PDB/PDBParser.py:395: PDBConstructionWarning: Ignoring unrecognized record 'TER' at line 1410\n",
      "  warnings.warn(\n",
      "/home/jnorth/miniconda3/envs/mdanalysis/lib/python3.8/site-packages/Bio/PDB/PDBParser.py:395: PDBConstructionWarning: Ignoring unrecognized record 'TER' at line 3245\n",
      "  warnings.warn(\n"
     ]
    },
    {
     "name": "stdout",
     "output_type": "stream",
     "text": [
      "3f7i_protein.pdb\n",
      "1c1r_protein.pdb\n",
      "1ydd_protein.pdb\n"
     ]
    },
    {
     "name": "stderr",
     "output_type": "stream",
     "text": [
      "/home/jnorth/miniconda3/envs/mdanalysis/lib/python3.8/site-packages/Bio/PDB/PDBParser.py:395: PDBConstructionWarning: Ignoring unrecognized record 'TER' at line 4051\n",
      "  warnings.warn(\n",
      "/home/jnorth/miniconda3/envs/mdanalysis/lib/python3.8/site-packages/Bio/PDB/PDBParser.py:395: PDBConstructionWarning: Ignoring unrecognized record 'TER' at line 3271\n",
      "  warnings.warn(\n",
      "/home/jnorth/miniconda3/envs/mdanalysis/lib/python3.8/site-packages/Bio/PDB/PDBParser.py:395: PDBConstructionWarning: Ignoring unrecognized record 'TER' at line 3596\n",
      "  warnings.warn(\n",
      "/home/jnorth/miniconda3/envs/mdanalysis/lib/python3.8/site-packages/Bio/PDB/PDBParser.py:395: PDBConstructionWarning: Ignoring unrecognized record 'END' at line 3962\n",
      "  warnings.warn(\n"
     ]
    },
    {
     "name": "stdout",
     "output_type": "stream",
     "text": [
      "5om2_protein.pdb\n",
      "1rpj_protein.pdb\n"
     ]
    },
    {
     "name": "stderr",
     "output_type": "stream",
     "text": [
      "/home/jnorth/miniconda3/envs/mdanalysis/lib/python3.8/site-packages/Bio/PDB/PDBParser.py:395: PDBConstructionWarning: Ignoring unrecognized record 'TER' at line 4344\n",
      "  warnings.warn(\n",
      "/home/jnorth/miniconda3/envs/mdanalysis/lib/python3.8/site-packages/Bio/PDB/PDBParser.py:395: PDBConstructionWarning: Ignoring unrecognized record 'TER' at line 1183\n",
      "  warnings.warn(\n",
      "/home/jnorth/miniconda3/envs/mdanalysis/lib/python3.8/site-packages/Bio/PDB/PDBParser.py:395: PDBConstructionWarning: Ignoring unrecognized record 'TER' at line 3954\n",
      "  warnings.warn(\n"
     ]
    },
    {
     "name": "stdout",
     "output_type": "stream",
     "text": [
      "4qer_protein.pdb\n",
      "4bi7_protein.pdb\n"
     ]
    },
    {
     "name": "stderr",
     "output_type": "stream",
     "text": [
      "/home/jnorth/miniconda3/envs/mdanalysis/lib/python3.8/site-packages/Bio/PDB/PDBParser.py:395: PDBConstructionWarning: Ignoring unrecognized record 'TER' at line 7865\n",
      "  warnings.warn(\n",
      "/home/jnorth/miniconda3/envs/mdanalysis/lib/python3.8/site-packages/Bio/PDB/PDBParser.py:395: PDBConstructionWarning: Ignoring unrecognized record 'END' at line 8244\n",
      "  warnings.warn(\n",
      "/home/jnorth/miniconda3/envs/mdanalysis/lib/python3.8/site-packages/Bio/PDB/PDBParser.py:395: PDBConstructionWarning: Ignoring unrecognized record 'TER' at line 1078\n",
      "  warnings.warn(\n",
      "/home/jnorth/miniconda3/envs/mdanalysis/lib/python3.8/site-packages/Bio/PDB/PDBParser.py:395: PDBConstructionWarning: Ignoring unrecognized record 'TER' at line 2124\n",
      "  warnings.warn(\n",
      "/home/jnorth/miniconda3/envs/mdanalysis/lib/python3.8/site-packages/Bio/PDB/PDBParser.py:395: PDBConstructionWarning: Ignoring unrecognized record 'END' at line 2437\n",
      "  warnings.warn(\n"
     ]
    },
    {
     "name": "stdout",
     "output_type": "stream",
     "text": [
      "5kly_protein.pdb\n",
      "5nk8_protein.pdb\n"
     ]
    },
    {
     "name": "stderr",
     "output_type": "stream",
     "text": [
      "/home/jnorth/miniconda3/envs/mdanalysis/lib/python3.8/site-packages/Bio/PDB/PDBParser.py:395: PDBConstructionWarning: Ignoring unrecognized record 'TER' at line 2626\n",
      "  warnings.warn(\n",
      "/home/jnorth/miniconda3/envs/mdanalysis/lib/python3.8/site-packages/Bio/PDB/PDBParser.py:395: PDBConstructionWarning: Ignoring unrecognized record 'END' at line 2799\n",
      "  warnings.warn(\n",
      "/home/jnorth/miniconda3/envs/mdanalysis/lib/python3.8/site-packages/Bio/PDB/PDBParser.py:395: PDBConstructionWarning: Ignoring unrecognized record 'TER' at line 1527\n",
      "  warnings.warn(\n",
      "/home/jnorth/miniconda3/envs/mdanalysis/lib/python3.8/site-packages/Bio/PDB/PDBParser.py:395: PDBConstructionWarning: Ignoring unrecognized record 'TER' at line 3025\n",
      "  warnings.warn(\n",
      "/home/jnorth/miniconda3/envs/mdanalysis/lib/python3.8/site-packages/Bio/PDB/PDBParser.py:395: PDBConstructionWarning: Ignoring unrecognized record 'END' at line 3506\n",
      "  warnings.warn(\n"
     ]
    },
    {
     "name": "stdout",
     "output_type": "stream",
     "text": [
      "6b7a_protein.pdb\n",
      "3c8b_protein.pdb\n"
     ]
    },
    {
     "name": "stderr",
     "output_type": "stream",
     "text": [
      "/home/jnorth/miniconda3/envs/mdanalysis/lib/python3.8/site-packages/Bio/PDB/PDBParser.py:395: PDBConstructionWarning: Ignoring unrecognized record 'TER' at line 6827\n",
      "  warnings.warn(\n",
      "/home/jnorth/miniconda3/envs/mdanalysis/lib/python3.8/site-packages/Bio/PDB/PDBParser.py:395: PDBConstructionWarning: Ignoring unrecognized record 'TER' at line 1439\n",
      "  warnings.warn(\n",
      "/home/jnorth/miniconda3/envs/mdanalysis/lib/python3.8/site-packages/Bio/PDB/PDBParser.py:395: PDBConstructionWarning: Ignoring unrecognized record 'TER' at line 2839\n",
      "  warnings.warn(\n",
      "/home/jnorth/miniconda3/envs/mdanalysis/lib/python3.8/site-packages/Bio/PDB/PDBParser.py:395: PDBConstructionWarning: Ignoring unrecognized record 'TER' at line 4239\n",
      "  warnings.warn(\n",
      "/home/jnorth/miniconda3/envs/mdanalysis/lib/python3.8/site-packages/Bio/PDB/PDBParser.py:395: PDBConstructionWarning: Ignoring unrecognized record 'END' at line 4444\n",
      "  warnings.warn(\n"
     ]
    },
    {
     "name": "stdout",
     "output_type": "stream",
     "text": [
      "4cp5_protein.pdb\n",
      "3uuo_protein.pdb\n"
     ]
    },
    {
     "name": "stderr",
     "output_type": "stream",
     "text": [
      "/home/jnorth/miniconda3/envs/mdanalysis/lib/python3.8/site-packages/Bio/PDB/PDBParser.py:395: PDBConstructionWarning: Ignoring unrecognized record 'TER' at line 4934\n",
      "  warnings.warn(\n",
      "/home/jnorth/miniconda3/envs/mdanalysis/lib/python3.8/site-packages/Bio/PDB/PDBParser.py:395: PDBConstructionWarning: Ignoring unrecognized record 'TER' at line 1037\n",
      "  warnings.warn(\n",
      "/home/jnorth/miniconda3/envs/mdanalysis/lib/python3.8/site-packages/Bio/PDB/PDBParser.py:395: PDBConstructionWarning: Ignoring unrecognized record 'TER' at line 2167\n",
      "  warnings.warn(\n",
      "/home/jnorth/miniconda3/envs/mdanalysis/lib/python3.8/site-packages/Bio/PDB/PDBParser.py:395: PDBConstructionWarning: Ignoring unrecognized record 'END' at line 2228\n",
      "  warnings.warn(\n"
     ]
    },
    {
     "name": "stdout",
     "output_type": "stream",
     "text": [
      "5ufp_protein.pdb\n",
      "4aq6_protein.pdb\n"
     ]
    },
    {
     "name": "stderr",
     "output_type": "stream",
     "text": [
      "/home/jnorth/miniconda3/envs/mdanalysis/lib/python3.8/site-packages/Bio/PDB/PDBParser.py:395: PDBConstructionWarning: Ignoring unrecognized record 'TER' at line 6698\n",
      "  warnings.warn(\n",
      "/home/jnorth/miniconda3/envs/mdanalysis/lib/python3.8/site-packages/Bio/PDB/PDBParser.py:395: PDBConstructionWarning: Ignoring unrecognized record 'TER' at line 13175\n",
      "  warnings.warn(\n",
      "/home/jnorth/miniconda3/envs/mdanalysis/lib/python3.8/site-packages/Bio/PDB/PDBParser.py:395: PDBConstructionWarning: Ignoring unrecognized record 'TER' at line 19660\n",
      "  warnings.warn(\n",
      "/home/jnorth/miniconda3/envs/mdanalysis/lib/python3.8/site-packages/Bio/PDB/PDBParser.py:395: PDBConstructionWarning: Ignoring unrecognized record 'TER' at line 26149\n",
      "  warnings.warn(\n",
      "/home/jnorth/miniconda3/envs/mdanalysis/lib/python3.8/site-packages/Bio/PDB/PDBParser.py:395: PDBConstructionWarning: Ignoring unrecognized record 'TER' at line 32619\n",
      "  warnings.warn(\n",
      "/home/jnorth/miniconda3/envs/mdanalysis/lib/python3.8/site-packages/Bio/PDB/PDBParser.py:395: PDBConstructionWarning: Ignoring unrecognized record 'TER' at line 39098\n",
      "  warnings.warn(\n"
     ]
    },
    {
     "name": "stdout",
     "output_type": "stream",
     "text": [
      "5n6s_protein.pdb\n"
     ]
    },
    {
     "name": "stderr",
     "output_type": "stream",
     "text": [
      "/home/jnorth/miniconda3/envs/mdanalysis/lib/python3.8/site-packages/Bio/PDB/PDBParser.py:395: PDBConstructionWarning: Ignoring unrecognized record 'TER' at line 4362\n",
      "  warnings.warn(\n",
      "/home/jnorth/miniconda3/envs/mdanalysis/lib/python3.8/site-packages/Bio/PDB/PDBParser.py:395: PDBConstructionWarning: Ignoring unrecognized record 'END' at line 4517\n",
      "  warnings.warn(\n",
      "/home/jnorth/miniconda3/envs/mdanalysis/lib/python3.8/site-packages/Bio/PDB/PDBParser.py:395: PDBConstructionWarning: Ignoring unrecognized record 'TER' at line 2276\n",
      "  warnings.warn(\n",
      "/home/jnorth/miniconda3/envs/mdanalysis/lib/python3.8/site-packages/Bio/PDB/PDBParser.py:395: PDBConstructionWarning: Ignoring unrecognized record 'TER' at line 4423\n",
      "  warnings.warn(\n",
      "/home/jnorth/miniconda3/envs/mdanalysis/lib/python3.8/site-packages/Bio/PDB/PDBParser.py:395: PDBConstructionWarning: Ignoring unrecognized record 'TER' at line 6542\n",
      "  warnings.warn(\n"
     ]
    },
    {
     "name": "stdout",
     "output_type": "stream",
     "text": [
      "3n7a_protein.pdb\n"
     ]
    },
    {
     "name": "stderr",
     "output_type": "stream",
     "text": [
      "/home/jnorth/miniconda3/envs/mdanalysis/lib/python3.8/site-packages/Bio/PDB/PDBParser.py:395: PDBConstructionWarning: Ignoring unrecognized record 'TER' at line 8689\n",
      "  warnings.warn(\n",
      "/home/jnorth/miniconda3/envs/mdanalysis/lib/python3.8/site-packages/Bio/PDB/PDBParser.py:395: PDBConstructionWarning: Ignoring unrecognized record 'TER' at line 10836\n",
      "  warnings.warn(\n",
      "/home/jnorth/miniconda3/envs/mdanalysis/lib/python3.8/site-packages/Bio/PDB/PDBParser.py:395: PDBConstructionWarning: Ignoring unrecognized record 'TER' at line 12918\n",
      "  warnings.warn(\n",
      "/home/jnorth/miniconda3/envs/mdanalysis/lib/python3.8/site-packages/Bio/PDB/PDBParser.py:395: PDBConstructionWarning: Ignoring unrecognized record 'TER' at line 15065\n",
      "  warnings.warn(\n",
      "/home/jnorth/miniconda3/envs/mdanalysis/lib/python3.8/site-packages/Bio/PDB/PDBParser.py:395: PDBConstructionWarning: Ignoring unrecognized record 'TER' at line 17212\n",
      "  warnings.warn(\n",
      "/home/jnorth/miniconda3/envs/mdanalysis/lib/python3.8/site-packages/Bio/PDB/PDBParser.py:395: PDBConstructionWarning: Ignoring unrecognized record 'TER' at line 19353\n",
      "  warnings.warn(\n",
      "/home/jnorth/miniconda3/envs/mdanalysis/lib/python3.8/site-packages/Bio/PDB/PDBParser.py:395: PDBConstructionWarning: Ignoring unrecognized record 'TER' at line 21494\n",
      "  warnings.warn(\n",
      "/home/jnorth/miniconda3/envs/mdanalysis/lib/python3.8/site-packages/Bio/PDB/PDBParser.py:395: PDBConstructionWarning: Ignoring unrecognized record 'TER' at line 23641\n",
      "  warnings.warn(\n",
      "/home/jnorth/miniconda3/envs/mdanalysis/lib/python3.8/site-packages/Bio/PDB/PDBParser.py:395: PDBConstructionWarning: Ignoring unrecognized record 'TER' at line 25788\n",
      "  warnings.warn(\n",
      "/home/jnorth/miniconda3/envs/mdanalysis/lib/python3.8/site-packages/Bio/PDB/PDBParser.py:395: PDBConstructionWarning: Ignoring unrecognized record 'END' at line 26965\n",
      "  warnings.warn(\n"
     ]
    },
    {
     "name": "stdout",
     "output_type": "stream",
     "text": [
      "3bgs_protein.pdb\n"
     ]
    },
    {
     "name": "stderr",
     "output_type": "stream",
     "text": [
      "/home/jnorth/miniconda3/envs/mdanalysis/lib/python3.8/site-packages/Bio/PDB/PDBParser.py:395: PDBConstructionWarning: Ignoring unrecognized record 'TER' at line 4512\n",
      "  warnings.warn(\n",
      "/home/jnorth/miniconda3/envs/mdanalysis/lib/python3.8/site-packages/Bio/PDB/PDBParser.py:395: PDBConstructionWarning: Ignoring unrecognized record 'TER' at line 8955\n",
      "  warnings.warn(\n",
      "/home/jnorth/miniconda3/envs/mdanalysis/lib/python3.8/site-packages/Bio/PDB/PDBParser.py:395: PDBConstructionWarning: Ignoring unrecognized record 'TER' at line 13398\n",
      "  warnings.warn(\n",
      "/home/jnorth/miniconda3/envs/mdanalysis/lib/python3.8/site-packages/Bio/PDB/PDBParser.py:395: PDBConstructionWarning: Ignoring unrecognized record 'END' at line 13698\n",
      "  warnings.warn(\n",
      "/home/jnorth/miniconda3/envs/mdanalysis/lib/python3.8/site-packages/Bio/PDB/PDBParser.py:395: PDBConstructionWarning: Ignoring unrecognized record 'TER' at line 3948\n",
      "  warnings.warn(\n",
      "/home/jnorth/miniconda3/envs/mdanalysis/lib/python3.8/site-packages/Bio/PDB/PDBParser.py:395: PDBConstructionWarning: Ignoring unrecognized record 'END' at line 4318\n",
      "  warnings.warn(\n"
     ]
    },
    {
     "name": "stdout",
     "output_type": "stream",
     "text": [
      "3g32_protein.pdb\n",
      "4cu8_protein.pdb\n"
     ]
    },
    {
     "name": "stderr",
     "output_type": "stream",
     "text": [
      "/home/jnorth/miniconda3/envs/mdanalysis/lib/python3.8/site-packages/Bio/PDB/PDBParser.py:395: PDBConstructionWarning: Ignoring unrecognized record 'TER' at line 8407\n",
      "  warnings.warn(\n",
      "/home/jnorth/miniconda3/envs/mdanalysis/lib/python3.8/site-packages/Bio/PDB/PDBParser.py:395: PDBConstructionWarning: Ignoring unrecognized record 'END' at line 9049\n",
      "  warnings.warn(\n",
      "/home/jnorth/miniconda3/envs/mdanalysis/lib/python3.8/site-packages/Bio/PDB/PDBParser.py:395: PDBConstructionWarning: Ignoring unrecognized record 'TER' at line 1014\n",
      "  warnings.warn(\n"
     ]
    },
    {
     "name": "stdout",
     "output_type": "stream",
     "text": [
      "5oh3_protein.pdb\n",
      "3v3q_protein.pdb\n"
     ]
    },
    {
     "name": "stderr",
     "output_type": "stream",
     "text": [
      "/home/jnorth/miniconda3/envs/mdanalysis/lib/python3.8/site-packages/Bio/PDB/PDBParser.py:395: PDBConstructionWarning: Ignoring unrecognized record 'TER' at line 3803\n",
      "  warnings.warn(\n",
      "/home/jnorth/miniconda3/envs/mdanalysis/lib/python3.8/site-packages/Bio/PDB/PDBParser.py:395: PDBConstructionWarning: Ignoring unrecognized record 'TER' at line 7592\n",
      "  warnings.warn(\n",
      "/home/jnorth/miniconda3/envs/mdanalysis/lib/python3.8/site-packages/Bio/PDB/PDBParser.py:395: PDBConstructionWarning: Ignoring unrecognized record 'TER' at line 2697\n",
      "  warnings.warn(\n"
     ]
    },
    {
     "name": "stdout",
     "output_type": "stream",
     "text": [
      "3usx_protein.pdb\n"
     ]
    },
    {
     "name": "stderr",
     "output_type": "stream",
     "text": [
      "/home/jnorth/miniconda3/envs/mdanalysis/lib/python3.8/site-packages/Bio/PDB/PDBParser.py:395: PDBConstructionWarning: Ignoring unrecognized record 'TER' at line 5323\n",
      "  warnings.warn(\n",
      "/home/jnorth/miniconda3/envs/mdanalysis/lib/python3.8/site-packages/Bio/PDB/PDBParser.py:395: PDBConstructionWarning: Ignoring unrecognized record 'TER' at line 7949\n",
      "  warnings.warn(\n",
      "/home/jnorth/miniconda3/envs/mdanalysis/lib/python3.8/site-packages/Bio/PDB/PDBParser.py:395: PDBConstructionWarning: Ignoring unrecognized record 'TER' at line 10574\n",
      "  warnings.warn(\n",
      "/home/jnorth/miniconda3/envs/mdanalysis/lib/python3.8/site-packages/Bio/PDB/PDBParser.py:395: PDBConstructionWarning: Ignoring unrecognized record 'TER' at line 2551\n",
      "  warnings.warn(\n"
     ]
    },
    {
     "name": "stdout",
     "output_type": "stream",
     "text": [
      "5xmx_protein.pdb\n"
     ]
    },
    {
     "name": "stderr",
     "output_type": "stream",
     "text": [
      "/home/jnorth/miniconda3/envs/mdanalysis/lib/python3.8/site-packages/Bio/PDB/PDBParser.py:395: PDBConstructionWarning: Ignoring unrecognized record 'TER' at line 4954\n",
      "  warnings.warn(\n",
      "/home/jnorth/miniconda3/envs/mdanalysis/lib/python3.8/site-packages/Bio/PDB/PDBParser.py:395: PDBConstructionWarning: Ignoring unrecognized record 'END' at line 5177\n",
      "  warnings.warn(\n",
      "/home/jnorth/miniconda3/envs/mdanalysis/lib/python3.8/site-packages/Bio/PDB/PDBParser.py:395: PDBConstructionWarning: Ignoring unrecognized record 'TER' at line 2451\n",
      "  warnings.warn(\n",
      "/home/jnorth/miniconda3/envs/mdanalysis/lib/python3.8/site-packages/Bio/PDB/PDBParser.py:395: PDBConstructionWarning: Ignoring unrecognized record 'TER' at line 4055\n",
      "  warnings.warn(\n"
     ]
    },
    {
     "name": "stdout",
     "output_type": "stream",
     "text": [
      "4yyt_protein.pdb\n",
      "1bnn_protein.pdb\n",
      "5vij_protein.pdb\n"
     ]
    },
    {
     "name": "stderr",
     "output_type": "stream",
     "text": [
      "/home/jnorth/miniconda3/envs/mdanalysis/lib/python3.8/site-packages/Bio/PDB/PDBParser.py:395: PDBConstructionWarning: Ignoring unrecognized record 'TER' at line 2724\n",
      "  warnings.warn(\n",
      "/home/jnorth/miniconda3/envs/mdanalysis/lib/python3.8/site-packages/Bio/PDB/PDBParser.py:395: PDBConstructionWarning: Ignoring unrecognized record 'TER' at line 5430\n",
      "  warnings.warn(\n",
      "/home/jnorth/miniconda3/envs/mdanalysis/lib/python3.8/site-packages/Bio/PDB/PDBParser.py:395: PDBConstructionWarning: Ignoring unrecognized record 'TER' at line 1468\n",
      "  warnings.warn(\n",
      "/home/jnorth/miniconda3/envs/mdanalysis/lib/python3.8/site-packages/Bio/PDB/PDBParser.py:395: PDBConstructionWarning: Ignoring unrecognized record 'END' at line 1620\n",
      "  warnings.warn(\n"
     ]
    },
    {
     "name": "stdout",
     "output_type": "stream",
     "text": [
      "6gl8_protein.pdb\n",
      "3jvs_protein.pdb\n",
      "1x8d_protein.pdb\n"
     ]
    },
    {
     "name": "stderr",
     "output_type": "stream",
     "text": [
      "/home/jnorth/miniconda3/envs/mdanalysis/lib/python3.8/site-packages/Bio/PDB/PDBParser.py:395: PDBConstructionWarning: Ignoring unrecognized record 'TER' at line 4204\n",
      "  warnings.warn(\n",
      "/home/jnorth/miniconda3/envs/mdanalysis/lib/python3.8/site-packages/Bio/PDB/PDBParser.py:395: PDBConstructionWarning: Ignoring unrecognized record 'END' at line 4449\n",
      "  warnings.warn(\n",
      "/home/jnorth/miniconda3/envs/mdanalysis/lib/python3.8/site-packages/Bio/PDB/PDBParser.py:395: PDBConstructionWarning: Ignoring unrecognized record 'TER' at line 1704\n",
      "  warnings.warn(\n",
      "/home/jnorth/miniconda3/envs/mdanalysis/lib/python3.8/site-packages/Bio/PDB/PDBParser.py:395: PDBConstructionWarning: Ignoring unrecognized record 'TER' at line 3389\n",
      "  warnings.warn(\n",
      "/home/jnorth/miniconda3/envs/mdanalysis/lib/python3.8/site-packages/Bio/PDB/PDBParser.py:395: PDBConstructionWarning: Ignoring unrecognized record 'END' at line 3620\n",
      "  warnings.warn(\n",
      "/home/jnorth/miniconda3/envs/mdanalysis/lib/python3.8/site-packages/Bio/PDB/PDBParser.py:395: PDBConstructionWarning: Ignoring unrecognized record 'TER' at line 2528\n",
      "  warnings.warn(\n",
      "/home/jnorth/miniconda3/envs/mdanalysis/lib/python3.8/site-packages/Bio/PDB/PDBParser.py:395: PDBConstructionWarning: Ignoring unrecognized record 'TER' at line 3374\n",
      "  warnings.warn(\n",
      "/home/jnorth/miniconda3/envs/mdanalysis/lib/python3.8/site-packages/Bio/PDB/PDBParser.py:395: PDBConstructionWarning: Ignoring unrecognized record 'END' at line 3639\n",
      "  warnings.warn(\n"
     ]
    },
    {
     "name": "stdout",
     "output_type": "stream",
     "text": [
      "5nih_protein.pdb\n",
      "5otz_protein.pdb\n",
      "5nki_protein.pdb\n"
     ]
    },
    {
     "name": "stderr",
     "output_type": "stream",
     "text": [
      "/home/jnorth/miniconda3/envs/mdanalysis/lib/python3.8/site-packages/Bio/PDB/PDBParser.py:395: PDBConstructionWarning: Ignoring unrecognized record 'TER' at line 2644\n",
      "  warnings.warn(\n",
      "/home/jnorth/miniconda3/envs/mdanalysis/lib/python3.8/site-packages/Bio/PDB/PDBParser.py:395: PDBConstructionWarning: Ignoring unrecognized record 'END' at line 2867\n",
      "  warnings.warn(\n"
     ]
    },
    {
     "name": "stdout",
     "output_type": "stream",
     "text": [
      "1b6h_protein.pdb\n"
     ]
    },
    {
     "name": "stderr",
     "output_type": "stream",
     "text": [
      "/home/jnorth/miniconda3/envs/mdanalysis/lib/python3.8/site-packages/Bio/PDB/PDBParser.py:395: PDBConstructionWarning: Ignoring unrecognized record 'TER' at line 8275\n",
      "  warnings.warn(\n",
      "/home/jnorth/miniconda3/envs/mdanalysis/lib/python3.8/site-packages/Bio/PDB/PDBParser.py:395: PDBConstructionWarning: Ignoring unrecognized record 'TER' at line 2056\n",
      "  warnings.warn(\n",
      "/home/jnorth/miniconda3/envs/mdanalysis/lib/python3.8/site-packages/Bio/PDB/PDBParser.py:395: PDBConstructionWarning: Ignoring unrecognized record 'END' at line 2186\n",
      "  warnings.warn(\n"
     ]
    },
    {
     "name": "stdout",
     "output_type": "stream",
     "text": [
      "4m8h_protein.pdb\n",
      "2jfz_protein.pdb\n"
     ]
    },
    {
     "name": "stderr",
     "output_type": "stream",
     "text": [
      "/home/jnorth/miniconda3/envs/mdanalysis/lib/python3.8/site-packages/Bio/PDB/PDBParser.py:395: PDBConstructionWarning: Ignoring unrecognized record 'TER' at line 4104\n",
      "  warnings.warn(\n",
      "/home/jnorth/miniconda3/envs/mdanalysis/lib/python3.8/site-packages/Bio/PDB/PDBParser.py:395: PDBConstructionWarning: Ignoring unrecognized record 'TER' at line 8064\n",
      "  warnings.warn(\n",
      "/home/jnorth/miniconda3/envs/mdanalysis/lib/python3.8/site-packages/Bio/PDB/PDBParser.py:395: PDBConstructionWarning: Ignoring unrecognized record 'END' at line 8515\n",
      "  warnings.warn(\n"
     ]
    },
    {
     "name": "stdout",
     "output_type": "stream",
     "text": [
      "4xmb_protein.pdb\n",
      "1vyg_protein.pdb\n",
      "1hxw_protein.pdb\n"
     ]
    },
    {
     "name": "stderr",
     "output_type": "stream",
     "text": [
      "/home/jnorth/miniconda3/envs/mdanalysis/lib/python3.8/site-packages/Bio/PDB/PDBParser.py:395: PDBConstructionWarning: Ignoring unrecognized record 'TER' at line 2718\n",
      "  warnings.warn(\n",
      "/home/jnorth/miniconda3/envs/mdanalysis/lib/python3.8/site-packages/Bio/PDB/PDBParser.py:395: PDBConstructionWarning: Ignoring unrecognized record 'END' at line 2862\n",
      "  warnings.warn(\n",
      "/home/jnorth/miniconda3/envs/mdanalysis/lib/python3.8/site-packages/Bio/PDB/PDBParser.py:395: PDBConstructionWarning: Ignoring unrecognized record 'TER' at line 2107\n",
      "  warnings.warn(\n",
      "/home/jnorth/miniconda3/envs/mdanalysis/lib/python3.8/site-packages/Bio/PDB/PDBParser.py:395: PDBConstructionWarning: Ignoring unrecognized record 'END' at line 2184\n",
      "  warnings.warn(\n",
      "/home/jnorth/miniconda3/envs/mdanalysis/lib/python3.8/site-packages/Bio/PDB/PDBParser.py:395: PDBConstructionWarning: Ignoring unrecognized record 'TER' at line 1584\n",
      "  warnings.warn(\n",
      "/home/jnorth/miniconda3/envs/mdanalysis/lib/python3.8/site-packages/Bio/PDB/PDBParser.py:395: PDBConstructionWarning: Ignoring unrecognized record 'TER' at line 3149\n",
      "  warnings.warn(\n",
      "/home/jnorth/miniconda3/envs/mdanalysis/lib/python3.8/site-packages/Bio/PDB/PDBParser.py:395: PDBConstructionWarning: Ignoring unrecognized record 'END' at line 3250\n",
      "  warnings.warn(\n",
      "/home/jnorth/miniconda3/envs/mdanalysis/lib/python3.8/site-packages/Bio/PDB/PDBParser.py:395: PDBConstructionWarning: Ignoring unrecognized record 'TER' at line 3538\n",
      "  warnings.warn(\n"
     ]
    },
    {
     "name": "stdout",
     "output_type": "stream",
     "text": [
      "4uac_protein.pdb\n"
     ]
    },
    {
     "ename": "KeyboardInterrupt",
     "evalue": "",
     "output_type": "error",
     "traceback": [
      "\u001b[0;31m---------------------------------------------------------------------------\u001b[0m",
      "\u001b[0;31mKeyboardInterrupt\u001b[0m                         Traceback (most recent call last)",
      "\u001b[0;32m<ipython-input-19-1e62ee4bc041>\u001b[0m in \u001b[0;36m<module>\u001b[0;34m\u001b[0m\n\u001b[1;32m      6\u001b[0m     \u001b[0mprint\u001b[0m\u001b[0;34m(\u001b[0m\u001b[0mpath\u001b[0m\u001b[0;34m.\u001b[0m\u001b[0mname\u001b[0m\u001b[0;34m)\u001b[0m\u001b[0;34m\u001b[0m\u001b[0;34m\u001b[0m\u001b[0m\n\u001b[1;32m      7\u001b[0m     \u001b[0;31m# for each file with the suffix, \"_protein.pdb\"\u001b[0m\u001b[0;34m\u001b[0m\u001b[0;34m\u001b[0m\u001b[0;34m\u001b[0m\u001b[0m\n\u001b[0;32m----> 8\u001b[0;31m     \u001b[0ms\u001b[0m \u001b[0;34m=\u001b[0m \u001b[0mpdbutils\u001b[0m\u001b[0;34m.\u001b[0m\u001b[0mcreateStruct\u001b[0m\u001b[0;34m(\u001b[0m\u001b[0mstr\u001b[0m\u001b[0;34m(\u001b[0m\u001b[0mpath\u001b[0m\u001b[0;34m)\u001b[0m\u001b[0;34m)\u001b[0m \u001b[0;31m# import the file into a structure object\u001b[0m\u001b[0;34m\u001b[0m\u001b[0;34m\u001b[0m\u001b[0m\n\u001b[0m\u001b[1;32m      9\u001b[0m     \u001b[0;31m# run PH\u001b[0m\u001b[0;34m\u001b[0m\u001b[0;34m\u001b[0m\u001b[0;34m\u001b[0m\u001b[0m\n\u001b[1;32m     10\u001b[0m     \u001b[0;31m# output diagram to analypath\u001b[0m\u001b[0;34m\u001b[0m\u001b[0;34m\u001b[0m\u001b[0;34m\u001b[0m\u001b[0m\n",
      "\u001b[0;32m~/Documents/GitHub/mlplayground/feature_engineering/thesis/pdbutils.py\u001b[0m in \u001b[0;36mcreateStruct\u001b[0;34m(filename)\u001b[0m\n\u001b[1;32m     20\u001b[0m \u001b[0;34m\u001b[0m\u001b[0m\n\u001b[1;32m     21\u001b[0m     \u001b[0mstructure_id\u001b[0m \u001b[0;34m=\u001b[0m \u001b[0mfilename\u001b[0m\u001b[0;34m.\u001b[0m\u001b[0mreplace\u001b[0m\u001b[0;34m(\u001b[0m\u001b[0;34m\".pdb\"\u001b[0m\u001b[0;34m,\u001b[0m \u001b[0;34m\"\"\u001b[0m\u001b[0;34m)\u001b[0m     \u001b[0;31m# replace the file extension with nothing, this is the structure ID!\u001b[0m\u001b[0;34m\u001b[0m\u001b[0;34m\u001b[0m\u001b[0m\n\u001b[0;32m---> 22\u001b[0;31m     \u001b[0;32mreturn\u001b[0m \u001b[0mparser\u001b[0m\u001b[0;34m.\u001b[0m\u001b[0mget_structure\u001b[0m\u001b[0;34m(\u001b[0m\u001b[0mstructure_id\u001b[0m\u001b[0;34m,\u001b[0m \u001b[0mfilename\u001b[0m\u001b[0;34m)\u001b[0m     \u001b[0;31m# return the structure\u001b[0m\u001b[0;34m\u001b[0m\u001b[0;34m\u001b[0m\u001b[0m\n\u001b[0m",
      "\u001b[0;32m~/miniconda3/envs/mdanalysis/lib/python3.8/site-packages/Bio/PDB/PDBParser.py\u001b[0m in \u001b[0;36mget_structure\u001b[0;34m(self, id, file)\u001b[0m\n\u001b[1;32m     98\u001b[0m                 \u001b[0;32mif\u001b[0m \u001b[0;32mnot\u001b[0m \u001b[0mlines\u001b[0m\u001b[0;34m:\u001b[0m\u001b[0;34m\u001b[0m\u001b[0;34m\u001b[0m\u001b[0m\n\u001b[1;32m     99\u001b[0m                     \u001b[0;32mraise\u001b[0m \u001b[0mValueError\u001b[0m\u001b[0;34m(\u001b[0m\u001b[0;34m\"Empty file.\"\u001b[0m\u001b[0;34m)\u001b[0m\u001b[0;34m\u001b[0m\u001b[0;34m\u001b[0m\u001b[0m\n\u001b[0;32m--> 100\u001b[0;31m                 \u001b[0mself\u001b[0m\u001b[0;34m.\u001b[0m\u001b[0m_parse\u001b[0m\u001b[0;34m(\u001b[0m\u001b[0mlines\u001b[0m\u001b[0;34m)\u001b[0m\u001b[0;34m\u001b[0m\u001b[0;34m\u001b[0m\u001b[0m\n\u001b[0m\u001b[1;32m    101\u001b[0m \u001b[0;34m\u001b[0m\u001b[0m\n\u001b[1;32m    102\u001b[0m             \u001b[0mself\u001b[0m\u001b[0;34m.\u001b[0m\u001b[0mstructure_builder\u001b[0m\u001b[0;34m.\u001b[0m\u001b[0mset_header\u001b[0m\u001b[0;34m(\u001b[0m\u001b[0mself\u001b[0m\u001b[0;34m.\u001b[0m\u001b[0mheader\u001b[0m\u001b[0;34m)\u001b[0m\u001b[0;34m\u001b[0m\u001b[0;34m\u001b[0m\u001b[0m\n",
      "\u001b[0;32m~/miniconda3/envs/mdanalysis/lib/python3.8/site-packages/Bio/PDB/PDBParser.py\u001b[0m in \u001b[0;36m_parse\u001b[0;34m(self, header_coords_trailer)\u001b[0m\n\u001b[1;32m    121\u001b[0m         \u001b[0mself\u001b[0m\u001b[0;34m.\u001b[0m\u001b[0mheader\u001b[0m\u001b[0;34m,\u001b[0m \u001b[0mcoords_trailer\u001b[0m \u001b[0;34m=\u001b[0m \u001b[0mself\u001b[0m\u001b[0;34m.\u001b[0m\u001b[0m_get_header\u001b[0m\u001b[0;34m(\u001b[0m\u001b[0mheader_coords_trailer\u001b[0m\u001b[0;34m)\u001b[0m\u001b[0;34m\u001b[0m\u001b[0;34m\u001b[0m\u001b[0m\n\u001b[1;32m    122\u001b[0m         \u001b[0;31m# Parse the atomic data; return the PDB file trailer\u001b[0m\u001b[0;34m\u001b[0m\u001b[0;34m\u001b[0m\u001b[0;34m\u001b[0m\u001b[0m\n\u001b[0;32m--> 123\u001b[0;31m         \u001b[0mself\u001b[0m\u001b[0;34m.\u001b[0m\u001b[0mtrailer\u001b[0m \u001b[0;34m=\u001b[0m \u001b[0mself\u001b[0m\u001b[0;34m.\u001b[0m\u001b[0m_parse_coordinates\u001b[0m\u001b[0;34m(\u001b[0m\u001b[0mcoords_trailer\u001b[0m\u001b[0;34m)\u001b[0m\u001b[0;34m\u001b[0m\u001b[0;34m\u001b[0m\u001b[0m\n\u001b[0m\u001b[1;32m    124\u001b[0m \u001b[0;34m\u001b[0m\u001b[0m\n\u001b[1;32m    125\u001b[0m     \u001b[0;32mdef\u001b[0m \u001b[0m_get_header\u001b[0m\u001b[0;34m(\u001b[0m\u001b[0mself\u001b[0m\u001b[0;34m,\u001b[0m \u001b[0mheader_coords_trailer\u001b[0m\u001b[0;34m)\u001b[0m\u001b[0;34m:\u001b[0m\u001b[0;34m\u001b[0m\u001b[0;34m\u001b[0m\u001b[0m\n",
      "\u001b[0;32m~/miniconda3/envs/mdanalysis/lib/python3.8/site-packages/Bio/PDB/PDBParser.py\u001b[0m in \u001b[0;36m_parse_coordinates\u001b[0;34m(self, coords_trailer)\u001b[0m\n\u001b[1;32m    288\u001b[0m                     \u001b[0mcurrent_resname\u001b[0m \u001b[0;34m=\u001b[0m \u001b[0mresname\u001b[0m\u001b[0;34m\u001b[0m\u001b[0;34m\u001b[0m\u001b[0m\n\u001b[1;32m    289\u001b[0m                     \u001b[0;32mtry\u001b[0m\u001b[0;34m:\u001b[0m\u001b[0;34m\u001b[0m\u001b[0;34m\u001b[0m\u001b[0m\n\u001b[0;32m--> 290\u001b[0;31m                         structure_builder.init_residue(\n\u001b[0m\u001b[1;32m    291\u001b[0m                             \u001b[0mresname\u001b[0m\u001b[0;34m,\u001b[0m \u001b[0mhetero_flag\u001b[0m\u001b[0;34m,\u001b[0m \u001b[0mresseq\u001b[0m\u001b[0;34m,\u001b[0m \u001b[0micode\u001b[0m\u001b[0;34m\u001b[0m\u001b[0;34m\u001b[0m\u001b[0m\n\u001b[1;32m    292\u001b[0m                         )\n",
      "\u001b[0;32m~/miniconda3/envs/mdanalysis/lib/python3.8/site-packages/Bio/PDB/StructureBuilder.py\u001b[0m in \u001b[0;36minit_residue\u001b[0;34m(self, resname, field, resseq, icode)\u001b[0m\n\u001b[1;32m    174\u001b[0m                     \u001b[0mself\u001b[0m\u001b[0;34m.\u001b[0m\u001b[0mresidue\u001b[0m \u001b[0;34m=\u001b[0m \u001b[0mdisordered_residue\u001b[0m\u001b[0;34m\u001b[0m\u001b[0;34m\u001b[0m\u001b[0m\n\u001b[1;32m    175\u001b[0m                     \u001b[0;32mreturn\u001b[0m\u001b[0;34m\u001b[0m\u001b[0;34m\u001b[0m\u001b[0m\n\u001b[0;32m--> 176\u001b[0;31m         \u001b[0mself\u001b[0m\u001b[0;34m.\u001b[0m\u001b[0mresidue\u001b[0m \u001b[0;34m=\u001b[0m \u001b[0mResidue\u001b[0m\u001b[0;34m(\u001b[0m\u001b[0mres_id\u001b[0m\u001b[0;34m,\u001b[0m \u001b[0mresname\u001b[0m\u001b[0;34m,\u001b[0m \u001b[0mself\u001b[0m\u001b[0;34m.\u001b[0m\u001b[0msegid\u001b[0m\u001b[0;34m)\u001b[0m\u001b[0;34m\u001b[0m\u001b[0;34m\u001b[0m\u001b[0m\n\u001b[0m\u001b[1;32m    177\u001b[0m         \u001b[0mself\u001b[0m\u001b[0;34m.\u001b[0m\u001b[0mchain\u001b[0m\u001b[0;34m.\u001b[0m\u001b[0madd\u001b[0m\u001b[0;34m(\u001b[0m\u001b[0mself\u001b[0m\u001b[0;34m.\u001b[0m\u001b[0mresidue\u001b[0m\u001b[0;34m)\u001b[0m\u001b[0;34m\u001b[0m\u001b[0;34m\u001b[0m\u001b[0m\n\u001b[1;32m    178\u001b[0m \u001b[0;34m\u001b[0m\u001b[0m\n",
      "\u001b[0;32m~/miniconda3/envs/mdanalysis/lib/python3.8/site-packages/Bio/PDB/Residue.py\u001b[0m in \u001b[0;36m__init__\u001b[0;34m(self, id, resname, segid)\u001b[0m\n\u001b[1;32m     32\u001b[0m         \u001b[0mself\u001b[0m\u001b[0;34m.\u001b[0m\u001b[0msegid\u001b[0m \u001b[0;34m=\u001b[0m \u001b[0msegid\u001b[0m\u001b[0;34m\u001b[0m\u001b[0;34m\u001b[0m\u001b[0m\n\u001b[1;32m     33\u001b[0m         \u001b[0mself\u001b[0m\u001b[0;34m.\u001b[0m\u001b[0minternal_coord\u001b[0m \u001b[0;34m=\u001b[0m \u001b[0;32mNone\u001b[0m\u001b[0;34m\u001b[0m\u001b[0;34m\u001b[0m\u001b[0m\n\u001b[0;32m---> 34\u001b[0;31m         \u001b[0mEntity\u001b[0m\u001b[0;34m.\u001b[0m\u001b[0m__init__\u001b[0m\u001b[0;34m(\u001b[0m\u001b[0mself\u001b[0m\u001b[0;34m,\u001b[0m \u001b[0mid\u001b[0m\u001b[0;34m)\u001b[0m\u001b[0;34m\u001b[0m\u001b[0;34m\u001b[0m\u001b[0m\n\u001b[0m\u001b[1;32m     35\u001b[0m \u001b[0;34m\u001b[0m\u001b[0m\n\u001b[1;32m     36\u001b[0m     \u001b[0;32mdef\u001b[0m \u001b[0m__repr__\u001b[0m\u001b[0;34m(\u001b[0m\u001b[0mself\u001b[0m\u001b[0;34m)\u001b[0m\u001b[0;34m:\u001b[0m\u001b[0;34m\u001b[0m\u001b[0;34m\u001b[0m\u001b[0m\n",
      "\u001b[0;32m~/miniconda3/envs/mdanalysis/lib/python3.8/site-packages/Bio/PDB/Entity.py\u001b[0m in \u001b[0;36m__init__\u001b[0;34m(self, id)\u001b[0m\n\u001b[1;32m     28\u001b[0m         \u001b[0mself\u001b[0m\u001b[0;34m.\u001b[0m\u001b[0mparent\u001b[0m \u001b[0;34m=\u001b[0m \u001b[0;32mNone\u001b[0m\u001b[0;34m\u001b[0m\u001b[0;34m\u001b[0m\u001b[0m\n\u001b[1;32m     29\u001b[0m         \u001b[0mself\u001b[0m\u001b[0;34m.\u001b[0m\u001b[0mchild_list\u001b[0m \u001b[0;34m=\u001b[0m \u001b[0;34m[\u001b[0m\u001b[0;34m]\u001b[0m\u001b[0;34m\u001b[0m\u001b[0;34m\u001b[0m\u001b[0m\n\u001b[0;32m---> 30\u001b[0;31m         \u001b[0mself\u001b[0m\u001b[0;34m.\u001b[0m\u001b[0mchild_dict\u001b[0m \u001b[0;34m=\u001b[0m \u001b[0;34m{\u001b[0m\u001b[0;34m}\u001b[0m\u001b[0;34m\u001b[0m\u001b[0;34m\u001b[0m\u001b[0m\n\u001b[0m\u001b[1;32m     31\u001b[0m         \u001b[0;31m# Dictionary that keeps additional properties\u001b[0m\u001b[0;34m\u001b[0m\u001b[0;34m\u001b[0m\u001b[0;34m\u001b[0m\u001b[0m\n\u001b[1;32m     32\u001b[0m         \u001b[0mself\u001b[0m\u001b[0;34m.\u001b[0m\u001b[0mxtra\u001b[0m \u001b[0;34m=\u001b[0m \u001b[0;34m{\u001b[0m\u001b[0;34m}\u001b[0m\u001b[0;34m\u001b[0m\u001b[0;34m\u001b[0m\u001b[0m\n",
      "\u001b[0;31mKeyboardInterrupt\u001b[0m: "
     ]
    }
   ],
   "source": [
    "from pathlib import Path\n",
    "import pdbutils\n",
    "\n",
    "# for each file with the suffix, \"_protein.pdb\" in the pdbbindpath,\n",
    "for path in Path(pdbbindpath).rglob('*_protein.pdb'):\n",
    "    s = pdbutils.createStruct(str(path)) # import the file into a structure object\n",
    "    p = atompartitioning.AtomPartition(s) # partition the structure into a partition object\n",
    "    \n",
    "    for part in p.byelemtype(): # for each element type partition in the object p,\n",
    "        structuralPH.getPositionArray # run PH\n",
    "        # output diagram to analypath\n",
    "        # output data (?) to datapath"
   ]
  }
 ],
 "metadata": {
  "kernelspec": {
   "display_name": "mdanalysis",
   "language": "python",
   "name": "mdanalysis"
  },
  "language_info": {
   "codemirror_mode": {
    "name": "ipython",
    "version": 3
   },
   "file_extension": ".py",
   "mimetype": "text/x-python",
   "name": "python",
   "nbconvert_exporter": "python",
   "pygments_lexer": "ipython3",
   "version": "3.8.6"
  }
 },
 "nbformat": 4,
 "nbformat_minor": 4
}
