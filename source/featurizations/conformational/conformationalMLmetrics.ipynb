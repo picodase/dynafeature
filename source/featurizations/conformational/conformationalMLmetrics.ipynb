{
 "cells": [
  {
   "cell_type": "markdown",
   "id": "billion-dietary",
   "metadata": {},
   "source": [
    "# Broad imports"
   ]
  },
  {
   "cell_type": "code",
   "execution_count": 1,
   "id": "previous-balance",
   "metadata": {},
   "outputs": [
    {
     "ename": "ModuleNotFoundError",
     "evalue": "No module named 'structureUtils'",
     "output_type": "error",
     "traceback": [
      "\u001b[0;31m---------------------------------------------------------------------------\u001b[0m",
      "\u001b[0;31mModuleNotFoundError\u001b[0m                       Traceback (most recent call last)",
      "\u001b[0;32m<ipython-input-1-d9e2ed913ec7>\u001b[0m in \u001b[0;36m<module>\u001b[0;34m\u001b[0m\n\u001b[1;32m      3\u001b[0m \u001b[0;32mimport\u001b[0m \u001b[0mnumpy\u001b[0m \u001b[0;32mas\u001b[0m \u001b[0mnp\u001b[0m\u001b[0;34m\u001b[0m\u001b[0;34m\u001b[0m\u001b[0m\n\u001b[1;32m      4\u001b[0m \u001b[0;34m\u001b[0m\u001b[0m\n\u001b[0;32m----> 5\u001b[0;31m \u001b[0;32mimport\u001b[0m \u001b[0mstructureUtils\u001b[0m\u001b[0;34m\u001b[0m\u001b[0;34m\u001b[0m\u001b[0m\n\u001b[0m\u001b[1;32m      6\u001b[0m \u001b[0;34m\u001b[0m\u001b[0m\n\u001b[1;32m      7\u001b[0m \u001b[0;32mfrom\u001b[0m \u001b[0mnbdev\u001b[0m\u001b[0;34m.\u001b[0m\u001b[0mshowdoc\u001b[0m \u001b[0;32mimport\u001b[0m \u001b[0;34m*\u001b[0m\u001b[0;34m\u001b[0m\u001b[0;34m\u001b[0m\u001b[0m\n",
      "\u001b[0;31mModuleNotFoundError\u001b[0m: No module named 'structureUtils'"
     ]
    }
   ],
   "source": [
    "#export\n",
    "import Bio.PDB\n",
    "import numpy as np\n",
    "\n",
    "import structureUtils\n",
    "\n",
    "from nbdev.showdoc import *"
   ]
  },
  {
   "cell_type": "markdown",
   "id": "civil-hygiene",
   "metadata": {},
   "source": [
    "# Constants"
   ]
  },
  {
   "cell_type": "code",
   "execution_count": null,
   "id": "respiratory-double",
   "metadata": {},
   "outputs": [],
   "source": [
    "#export"
   ]
  },
  {
   "cell_type": "markdown",
   "id": "pending-distributor",
   "metadata": {},
   "source": [
    "# Functions"
   ]
  },
  {
   "cell_type": "code",
   "execution_count": null,
   "id": "temporal-acrylic",
   "metadata": {},
   "outputs": [],
   "source": [
    "#export\n",
    "class WassersteinDistance():\n",
    "    def __init__(self, obj1, obj2):\n",
    "        self.o1 = obj1\n",
    "        self.o2 = obj2\n",
    "    \n",
    "    def PersistentHomology(self)-> float:\n",
    "        '''\n",
    "        DESCRIPTION\n",
    "            Computes the Wasserstein distance between two persistent homology models of a protein structure.\n",
    "\n",
    "        ARGUMENTS\n",
    "            conf1 First conformation for comparison.\n",
    "            conf2 Second filename of the second conformation for comparison.\n",
    "        '''\n",
    "        \n",
    "        return"
   ]
  },
  {
   "cell_type": "markdown",
   "id": "secure-review",
   "metadata": {},
   "source": [
    "# Export"
   ]
  },
  {
   "cell_type": "code",
   "execution_count": null,
   "id": "outside-guyana",
   "metadata": {},
   "outputs": [],
   "source": [
    "#hide\n",
    "from nbdev.export import notebook2script\n",
    "notebook2script()"
   ]
  }
 ],
 "metadata": {
  "kernelspec": {
   "display_name": "mdanalysis",
   "language": "python",
   "name": "mdanalysis"
  },
  "language_info": {
   "codemirror_mode": {
    "name": "ipython",
    "version": 3
   },
   "file_extension": ".py",
   "mimetype": "text/x-python",
   "name": "python",
   "nbconvert_exporter": "python",
   "pygments_lexer": "ipython3",
   "version": "3.8.8"
  }
 },
 "nbformat": 4,
 "nbformat_minor": 5
}
